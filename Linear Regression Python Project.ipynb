{
 "cells": [
  {
   "cell_type": "code",
   "execution_count": 8,
   "id": "87118cc3",
   "metadata": {},
   "outputs": [],
   "source": [
    "def get_y(m,b,x):\n",
    "    y = m*x + b\n",
    "    return y"
   ]
  },
  {
   "cell_type": "code",
   "execution_count": 9,
   "id": "4ce09337",
   "metadata": {},
   "outputs": [],
   "source": [
    "def calculate_error(m,b,point):\n",
    "    x_point = point[0]\n",
    "    y_point = point[1]\n",
    "    y = get_y(m,b,x_point)\n",
    "    y_dist = y - y_point\n",
    "    return abs(y_dist)"
   ]
  },
  {
   "cell_type": "code",
   "execution_count": 15,
   "id": "af5c5631",
   "metadata": {},
   "outputs": [],
   "source": [
    "def calculate_all_error(m,b,points):\n",
    "    total_error = 0\n",
    "    for point in points:\n",
    "        error = calculate_error(m,b,point)\n",
    "        total_error += error\n",
    "    return total_error"
   ]
  },
  {
   "cell_type": "code",
   "execution_count": 30,
   "id": "e71b45e4",
   "metadata": {},
   "outputs": [],
   "source": [
    "datapoints = [(1, 2), (2, 0), (3, 4), (4, 4), (5,3)]"
   ]
  },
  {
   "cell_type": "code",
   "execution_count": 31,
   "id": "3a215562",
   "metadata": {},
   "outputs": [],
   "source": [
    "possible_ms = [m/10 for m in range(-100,101)]"
   ]
  },
  {
   "cell_type": "code",
   "execution_count": 32,
   "id": "c19c56df",
   "metadata": {},
   "outputs": [],
   "source": [
    "possible_bs = [b/10 for b in range(-200,201)]"
   ]
  },
  {
   "cell_type": "code",
   "execution_count": 33,
   "id": "e05e88de",
   "metadata": {},
   "outputs": [
    {
     "name": "stdout",
     "output_type": "stream",
     "text": [
      "0.4 1.6 5.0\n"
     ]
    }
   ],
   "source": [
    "smallest_error = float('inf')\n",
    "best_m = 0\n",
    "best_b = 0\n",
    "for m in possible_ms:\n",
    "    for b in possible_bs:\n",
    "        error = calculate_all_error(m,b,datapoints)\n",
    "        if error < smallest_error:\n",
    "            best_m = m\n",
    "            best_b = b\n",
    "            smallest_error = error\n",
    "print(best_m, best_b, smallest_error)"
   ]
  },
  {
   "cell_type": "markdown",
   "id": "8f07a224",
   "metadata": {},
   "source": [
    "y = 0.4x + 1.6, error = 5"
   ]
  },
  {
   "cell_type": "code",
   "execution_count": 34,
   "id": "5aa0a06a",
   "metadata": {},
   "outputs": [
    {
     "data": {
      "text/plain": [
       "4.0"
      ]
     },
     "execution_count": 34,
     "metadata": {},
     "output_type": "execute_result"
    }
   ],
   "source": [
    "get_y(0.4, 1.6, 6)"
   ]
  },
  {
   "cell_type": "code",
   "execution_count": null,
   "id": "91a2d57f",
   "metadata": {},
   "outputs": [],
   "source": []
  }
 ],
 "metadata": {
  "kernelspec": {
   "display_name": "Python 3 (ipykernel)",
   "language": "python",
   "name": "python3"
  },
  "language_info": {
   "codemirror_mode": {
    "name": "ipython",
    "version": 3
   },
   "file_extension": ".py",
   "mimetype": "text/x-python",
   "name": "python",
   "nbconvert_exporter": "python",
   "pygments_lexer": "ipython3",
   "version": "3.9.12"
  }
 },
 "nbformat": 4,
 "nbformat_minor": 5
}
